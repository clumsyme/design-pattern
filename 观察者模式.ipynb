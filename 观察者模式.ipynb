{
 "cells": [
  {
   "cell_type": "code",
   "execution_count": null,
   "metadata": {},
   "outputs": [],
   "source": [
    "class Subject:\n",
    "    def __init__(self):\n",
    "        self.observers = set()\n",
    "        self.state = {}\n",
    "    def set_state(self, new_state):\n",
    "        self.state.update(new_state)\n",
    "        self.notif_observers()\n",
    "    def add_observer(self, observer):\n",
    "        self.observers.add(observer)\n",
    "    def remove_observer(self, observer):\n",
    "        self.observers.remove(observer)\n",
    "    def notif_observers(self):\n",
    "        for observer in self.observers:\n",
    "            observer.notif(self.state)\n",
    "            \n",
    "class Observer:\n",
    "    def __init__(self, name):\n",
    "        self.name = name\n",
    "    def notif(self, state):\n",
    "        print(f'{self.name} get notifed:', state)\n",
    "\n",
    "subject = Subject()\n",
    "\n",
    "ob1 = Observer('Observer One')\n",
    "ob2 = Observer('Observer Two')\n",
    "ob3 = Observer('Observer Three')\n",
    "\n",
    "subject.add_observer(ob1)\n",
    "subject.add_observer(ob2)\n",
    "subject.add_observer(ob3)\n",
    "\n",
    "subject.set_state({\n",
    "    \"hello\": \"world\"\n",
    "})\n",
    "\n",
    "subject.set_state({\n",
    "    \"Hello\": \"World\"\n",
    "})"
   ]
  }
 ],
 "metadata": {
  "celltoolbar": "Tags",
  "kernelspec": {
   "display_name": "Python 3",
   "language": "python",
   "name": "python3"
  },
  "language_info": {
   "codemirror_mode": {
    "name": "ipython",
    "version": 3
   },
   "file_extension": ".py",
   "mimetype": "text/x-python",
   "name": "python",
   "nbconvert_exporter": "python",
   "pygments_lexer": "ipython3",
   "version": "3.7.5"
  }
 },
 "nbformat": 4,
 "nbformat_minor": 2
}
