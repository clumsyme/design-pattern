{
 "cells": [
  {
   "cell_type": "code",
   "execution_count": 1,
   "metadata": {},
   "outputs": [],
   "source": [
    "class Subject:\n",
    "    def __init__(self):\n",
    "        self.observers = set()\n",
    "        self.state = {}\n",
    "    def set_state(self, new_state):\n",
    "        self.state.update(new_state)\n",
    "        self.notif_observers()\n",
    "    def add_observer(self, observer):\n",
    "        self.observers.add(observer)\n",
    "    def remove_observer(self, observer):\n",
    "        self.observers.remove(observer)\n",
    "    def notif_observers(self):\n",
    "        for observer in self.observers:\n",
    "            observer.notif(self.state)\n",
    "            \n",
    "class Observer:\n",
    "    def __init__(self, name):\n",
    "        self.name = name\n",
    "    def notif(self, state):\n",
    "        print(f'{self.name} get notified:', state)\n",
    "\n"
   ]
  },
  {
   "cell_type": "code",
   "execution_count": 2,
   "metadata": {},
   "outputs": [],
   "source": [
    "subject = Subject()\n",
    "\n",
    "ob1 = Observer('Observer One')\n",
    "ob2 = Observer('Observer Two')\n",
    "ob3 = Observer('Observer Three')\n",
    "\n",
    "subject.add_observer(ob1)\n",
    "subject.add_observer(ob2)\n",
    "subject.add_observer(ob3)"
   ]
  },
  {
   "cell_type": "code",
   "execution_count": 3,
   "metadata": {},
   "outputs": [
    {
     "name": "stdout",
     "output_type": "stream",
     "text": [
      "Observer Two get notified: {'hello': 'world'}\n",
      "Observer Three get notified: {'hello': 'world'}\n",
      "Observer One get notified: {'hello': 'world'}\n"
     ]
    }
   ],
   "source": [
    "subject.set_state({\n",
    "    \"hello\": \"world\"\n",
    "})"
   ]
  },
  {
   "cell_type": "code",
   "execution_count": 4,
   "metadata": {},
   "outputs": [
    {
     "name": "stdout",
     "output_type": "stream",
     "text": [
      "Observer Two get notified: {'hello': 'world', 'Hello': 'World'}\n",
      "Observer Three get notified: {'hello': 'world', 'Hello': 'World'}\n",
      "Observer One get notified: {'hello': 'world', 'Hello': 'World'}\n"
     ]
    }
   ],
   "source": [
    "subject.set_state({\n",
    "    \"Hello\": \"World\"\n",
    "})"
   ]
  },
  {
   "cell_type": "code",
   "execution_count": null,
   "metadata": {},
   "outputs": [],
   "source": []
  }
 ],
 "metadata": {
  "celltoolbar": "Tags",
  "kernelspec": {
   "display_name": "Python 3",
   "language": "python",
   "name": "python3"
  },
  "language_info": {
   "codemirror_mode": {
    "name": "ipython",
    "version": 3
   },
   "file_extension": ".py",
   "mimetype": "text/x-python",
   "name": "python",
   "nbconvert_exporter": "python",
   "pygments_lexer": "ipython3",
   "version": "3.7.5"
  }
 },
 "nbformat": 4,
 "nbformat_minor": 2
}
