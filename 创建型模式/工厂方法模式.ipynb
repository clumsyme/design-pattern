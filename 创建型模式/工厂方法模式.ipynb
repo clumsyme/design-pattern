{
 "cells": [
  {
   "cell_type": "code",
   "execution_count": 1,
   "metadata": {},
   "outputs": [],
   "source": [
    "from enum import Enum\n",
    "from abc import ABC, abstractmethod\n",
    "\n",
    "class Direction(Enum):\n",
    "    North=1\n",
    "    South=2\n",
    "    East=3\n",
    "    West=4\n",
    "\n",
    "class MapSite(ABC):\n",
    "    @abstractmethod\n",
    "    def enter(self):\n",
    "        ...\n",
    "        \n",
    "class Room(MapSite):\n",
    "    def __init__(self, roomNo: int):\n",
    "        ...\n",
    "\n",
    "    def getSide(self, direction: Direction) -> MapSite:\n",
    "        ...\n",
    "\n",
    "    def setSide(self, direction: Direction, mapSite: MapSite):\n",
    "        ...\n",
    "\n",
    "    def enter(self):\n",
    "        ...\n",
    "        \n",
    "class Door(MapSite):\n",
    "    def __init__(self, room1: Room, room2: Room):\n",
    "        ...\n",
    "\n",
    "    def enter(self):\n",
    "        ...\n",
    "        \n",
    "class Wall(MapSite):\n",
    "    def __init__(self):\n",
    "        ...\n",
    "\n",
    "    def enter(self):\n",
    "        ...\n",
    "        \n",
    "class Maze:\n",
    "    def __init__(self):\n",
    "        self.rooms = []\n",
    "        ...\n",
    "\n",
    "    def addRoom(self, room: Room):\n",
    "        self.rooms.append(room)\n",
    "        ...\n",
    "\n",
    "    def roomNo(self, roomNo) -> Room:\n",
    "        ...\n",
    "        "
   ]
  },
  {
   "cell_type": "code",
   "execution_count": 2,
   "metadata": {},
   "outputs": [],
   "source": [
    "class MazeGame:\n",
    "    def makeRoom(self, roomNo) -> Room:\n",
    "        return Room(roomNo)\n",
    "    def makeMaze(self) -> Maze:\n",
    "        return Maze()\n",
    "    def makeWall(self) -> Wall:\n",
    "        return Wall()\n",
    "    def makeDoor(self, room1: Room, room2: Room) -> Door:\n",
    "        return Door(room1, room2)\n",
    "    def createMaze(self):\n",
    "        maze = self.makeMaze()\n",
    "        room1 = self.makeRoom(1)\n",
    "        room2 = self.makeRoom(2)\n",
    "        door = self.makeDoor(room1, room2)\n",
    "\n",
    "        maze.addRoom(room1)\n",
    "        maze.addRoom(room2)\n",
    "\n",
    "        room1.setSide(Direction.North, self.makeWall())\n",
    "        room1.setSide(Direction.East, door)\n",
    "        room1.setSide(Direction.South, self.makeWall())\n",
    "        room1.setSide(Direction.West, self.makeWall())\n",
    "\n",
    "        room2.setSide(Direction.North, self.makeWall())\n",
    "        room2.setSide(Direction.East, self.makeWall())\n",
    "        room2.setSide(Direction.South, self.makeWall())\n",
    "        room2.setSide(Direction.West, door)\n",
    "\n",
    "        return maze"
   ]
  },
  {
   "cell_type": "code",
   "execution_count": 3,
   "metadata": {},
   "outputs": [],
   "source": [
    "class EnchantedRoom(Room):\n",
    "    ...\n",
    "\n",
    "class DoorNeedingSpell(Door):\n",
    "    ...\n",
    "    \n",
    "class MagicMaze(Maze):\n",
    "    ...\n",
    "    \n",
    "class MagicMazeGame(MazeGame):\n",
    "    def makeRoom(self, roomNo) -> EnchantedRoom:\n",
    "        return EnchantedRoom(roomNo)\n",
    "    def makeDoor(self, room1: EnchantedRoom, room2: EnchantedRoom) -> DoorNeedingSpell:\n",
    "        return DoorNeedingSpell(room1, room2)\n",
    "    def makeMaze(self) -> MagicMaze:\n",
    "        return MagicMaze()"
   ]
  },
  {
   "cell_type": "code",
   "execution_count": 4,
   "metadata": {},
   "outputs": [
    {
     "name": "stdout",
     "output_type": "stream",
     "text": [
      "<__main__.Maze object at 0x103ecf850>\n",
      "[<__main__.Room object at 0x103ecf890>, <__main__.Room object at 0x103ecf690>]\n"
     ]
    }
   ],
   "source": [
    "maze = MazeGame().createMaze()\n",
    "print(maze)\n",
    "print(maze.rooms)"
   ]
  },
  {
   "cell_type": "code",
   "execution_count": 5,
   "metadata": {},
   "outputs": [
    {
     "name": "stdout",
     "output_type": "stream",
     "text": [
      "<__main__.MagicMaze object at 0x103ecffd0>\n",
      "[<__main__.EnchantedRoom object at 0x103ec4050>, <__main__.EnchantedRoom object at 0x103ec4090>]\n"
     ]
    }
   ],
   "source": [
    "magicMaze = MagicMazeGame().createMaze()\n",
    "print(magicMaze)\n",
    "print(magicMaze.rooms)"
   ]
  },
  {
   "cell_type": "markdown",
   "metadata": {},
   "source": [
    "## 同样，对一个 BoomMaze，只需要新增一个 BoomMazeGame 类即可"
   ]
  },
  {
   "cell_type": "code",
   "execution_count": 6,
   "metadata": {},
   "outputs": [
    {
     "name": "stdout",
     "output_type": "stream",
     "text": [
      "<__main__.BoomMaze object at 0x103eea790>\n",
      "[<__main__.BoomRoom object at 0x103eea810>, <__main__.BoomRoom object at 0x103eea850>]\n"
     ]
    }
   ],
   "source": [
    "class BoomRoom(Room):\n",
    "    ...\n",
    "    \n",
    "class BoomWall(Wall):\n",
    "    ...\n",
    "    \n",
    "class BoomMaze(Maze):\n",
    "    ...\n",
    "    \n",
    "class BoomMazeGame(MazeGame):\n",
    "    def makeRoom(self, roomNo) -> BoomRoom:\n",
    "        return BoomRoom(roomNo)\n",
    "    def makeMaze(self) -> MagicMaze:\n",
    "        return BoomMaze()\n",
    "    def makeWall(self) -> BoomWall:\n",
    "        return BoomWall()\n",
    "    \n",
    "boomMaze = BoomMazeGame().createMaze()\n",
    "print(boomMaze)\n",
    "print(boomMaze.rooms)"
   ]
  },
  {
   "cell_type": "code",
   "execution_count": null,
   "metadata": {},
   "outputs": [],
   "source": []
  }
 ],
 "metadata": {
  "kernelspec": {
   "display_name": "Python 3",
   "language": "python",
   "name": "python3"
  },
  "language_info": {
   "codemirror_mode": {
    "name": "ipython",
    "version": 3
   },
   "file_extension": ".py",
   "mimetype": "text/x-python",
   "name": "python",
   "nbconvert_exporter": "python",
   "pygments_lexer": "ipython3",
   "version": "3.7.5"
  }
 },
 "nbformat": 4,
 "nbformat_minor": 2
}
