{
 "cells": [
  {
   "cell_type": "code",
   "execution_count": 1,
   "metadata": {},
   "outputs": [],
   "source": [
    "from enum import Enum\n",
    "from abc import ABC, abstractmethod\n",
    "\n",
    "class Direction(Enum):\n",
    "    North=1\n",
    "    South=2\n",
    "    East=3\n",
    "    West=4\n",
    "\n",
    "class MapSite(ABC):\n",
    "    @abstractmethod\n",
    "    def enter(self):\n",
    "        ...\n",
    "        \n",
    "class Room(MapSite):\n",
    "    def __init__(self, roomNo: int):\n",
    "        ...\n",
    "\n",
    "    def getSide(self, direction: Direction) -> MapSite:\n",
    "        ...\n",
    "\n",
    "    def setSide(self, direction: Direction, mapSite: MapSite):\n",
    "        ...\n",
    "\n",
    "    def enter(self):\n",
    "        ...\n",
    "        \n",
    "class Door(MapSite):\n",
    "    def __init__(self, room1: Room, room2: Room):\n",
    "        ...\n",
    "\n",
    "    def enter(self):\n",
    "        ...\n",
    "        \n",
    "class Wall(MapSite):\n",
    "    def __init__(self):\n",
    "        ...\n",
    "\n",
    "    def enter(self):\n",
    "        ...\n",
    "        \n",
    "class Maze:\n",
    "    def __init__(self):\n",
    "        ...\n",
    "\n",
    "    def addRoom(self, room: Room):\n",
    "        ...\n",
    "\n",
    "    def roomNo(self, roomNo) -> Room:\n",
    "        ...\n",
    "        "
   ]
  },
  {
   "cell_type": "code",
   "execution_count": null,
   "metadata": {},
   "outputs": [],
   "source": [
    "class MazeFactory:\n",
    "    def makeRoom(self, roomNo) -> Room:\n",
    "        return Room(roomNo)\n",
    "    def makeMaze(self) -> Maze:\n",
    "        return Maze()\n",
    "    def makeWall(self) -> Wall:\n",
    "        return Wall()\n",
    "    def makeDoor(self, room1: Room, room2: Room) -> Door:\n",
    "        return Door(room1, room2)\n",
    "\n",
    "class MazeGame:\n",
    "    def createMaze(self, factory: MazeFactory) -> Maze:\n",
    "        maze = factory.makeMaze()\n",
    "        room1 = factory.makeRoom(1)\n",
    "        room2 = factory.makeRoom(2)\n",
    "        door = factory.makeDoor(room1, room2)\n",
    "\n",
    "        maze.addRoom(room1)\n",
    "        maze.addRoom(room2)\n",
    "\n",
    "        room1.setSide(Direction.North, factory.makeWall())\n",
    "        room1.setSide(Direction.East, door)\n",
    "        room1.setSide(Direction.South, factory.makeWall())\n",
    "        room1.setSide(Direction.West, factory.makeWall())\n",
    "\n",
    "        room2.setSide(Direction.North, factory.makeWall())\n",
    "        room2.setSide(Direction.East, factory.makeWall())\n",
    "        room2.setSide(Direction.South, factory.makeWall())\n",
    "        room2.setSide(Direction.West, door)\n",
    "\n",
    "        return maze"
   ]
  },
  {
   "cell_type": "code",
   "execution_count": 12,
   "metadata": {},
   "outputs": [],
   "source": [
    "class EnchantedRoom(Room):\n",
    "    ...\n",
    "\n",
    "class DoorNeedingSpell(Door):\n",
    "    ...\n",
    "    \n",
    "class MagicMaze(Maze):\n",
    "    ...\n",
    "    \n",
    "class MagicMazeFactory(MazeFactory):\n",
    "    def makeRoom(self, roomNo) -> EnchantedRoom:\n",
    "        return EnchantedRoom(roomNo)\n",
    "    def makeDoor(self, room1: EnchantedRoom, room2: EnchantedRoom) -> DoorNeedingSpell:\n",
    "        return DoorNeedingSpell(room1, room2)\n",
    "    def makeMaze(self) -> MagicMaze:\n",
    "        return MagicMaze()"
   ]
  },
  {
   "cell_type": "code",
   "execution_count": 13,
   "metadata": {},
   "outputs": [
    {
     "name": "stdout",
     "output_type": "stream",
     "text": [
      "<__main__.Maze object at 0x105746690>\n"
     ]
    }
   ],
   "source": [
    "maze = MazeGame().createMaze(MazeFactory())\n",
    "print(maze)"
   ]
  },
  {
   "cell_type": "code",
   "execution_count": 15,
   "metadata": {},
   "outputs": [
    {
     "name": "stdout",
     "output_type": "stream",
     "text": [
      "<__main__.MagicMaze object at 0x105758190>\n"
     ]
    }
   ],
   "source": [
    "magicMaze = MazeGame().createMaze(MagicMazeFactory())\n",
    "print(magicMaze)"
   ]
  },
  {
   "cell_type": "markdown",
   "metadata": {},
   "source": [
    "## 考虑一个墙壁会爆炸的新的迷宫，我们只需要创建一个新的 MazeFactory 即可"
   ]
  },
  {
   "cell_type": "code",
   "execution_count": null,
   "metadata": {},
   "outputs": [],
   "source": [
    "class BoomRoom(Room):\n",
    "    ...\n",
    "    \n",
    "class BoomWall(Wall):\n",
    "    ...\n",
    "    \n",
    "class BoomMaze(Maze):\n",
    "    ...\n",
    "\n",
    "class BoomMazeFactory(MazeFactory):\n",
    "    def makeRoom(self, roomNo) -> BoomRoom:\n",
    "        return BoomRoom(roomNo)\n",
    "    def makeMaze(self) -> MagicMaze:\n",
    "        return BoomMaze()\n",
    "    def makeWall(self) -> BoomWall:\n",
    "        return BoomWall()\n",
    "    \n",
    "boomMaze = MazeGame().createMaze(BoomMazeFactory())\n",
    "print(boomMaze)"
   ]
  }
 ],
 "metadata": {
  "kernelspec": {
   "display_name": "Python 3",
   "language": "python",
   "name": "python3"
  },
  "language_info": {
   "codemirror_mode": {
    "name": "ipython",
    "version": 3
   },
   "file_extension": ".py",
   "mimetype": "text/x-python",
   "name": "python",
   "nbconvert_exporter": "python",
   "pygments_lexer": "ipython3",
   "version": "3.7.5"
  }
 },
 "nbformat": 4,
 "nbformat_minor": 2
}
