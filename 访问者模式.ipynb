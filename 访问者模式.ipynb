{
 "cells": [
  {
   "cell_type": "code",
   "execution_count": 9,
   "metadata": {},
   "outputs": [],
   "source": [
    "class Exp:\n",
    "    def accept(self, visitor):\n",
    "        visitor.visit(self)\n",
    "\n",
    "class BinaryExp(Exp):\n",
    "    def __init__(self, left, right):\n",
    "        self.left = left\n",
    "        self.right = right\n",
    "    def accept(self, visitor):\n",
    "        self.left.accept(visitor)\n",
    "        self.right.accept(visitor)\n",
    "        visitor.visit(self)\n",
    "        \n",
    "class Plus(BinaryExp):\n",
    "    def __str__(self):\n",
    "        return f'({self.left} + {self.right})'\n",
    "    def eval(self, env):\n",
    "        return self.left.eval(env) + self.right.eval(env)\n",
    "    \n",
    "class Times(BinaryExp):\n",
    "    def __str__(self):\n",
    "        return f'({self.left} * {self.right})'\n",
    "    def eval(self, env):\n",
    "        return self.left.eval(env) * self.right.eval(env)\n",
    "\n",
    "\n",
    "class Const(Exp):\n",
    "    def __init__(self, value):\n",
    "        self.value = value\n",
    "    def __str__(self):\n",
    "        return str(self.value)\n",
    "    def eval(self, env):\n",
    "        return self.value\n",
    "\n",
    "class Variable(Exp):\n",
    "    def __init__(self, name):\n",
    "        self.name = name\n",
    "    def __str__(self):\n",
    "        return self.name\n",
    "    def eval(self, env):\n",
    "        return env[self.name]\n",
    "    "
   ]
  },
  {
   "cell_type": "code",
   "execution_count": 10,
   "metadata": {},
   "outputs": [],
   "source": [
    "# (x + y) * 3\n",
    "ast = Times(Plus(Variable('x'), Variable('y')), Const(3))"
   ]
  },
  {
   "cell_type": "code",
   "execution_count": 11,
   "metadata": {},
   "outputs": [],
   "source": [
    "class Visitor:\n",
    "    def visit(self, exp):\n",
    "        type_name = exp.__class__.__name__\n",
    "        visit_func = getattr(self, f'visit_{type_name}', None)\n",
    "        if visit_func:\n",
    "            visit_func(exp)\n",
    "    "
   ]
  },
  {
   "cell_type": "code",
   "execution_count": 12,
   "metadata": {},
   "outputs": [],
   "source": [
    "class BinaryExpVisitor(Visitor):\n",
    "    def visit_Times(self, exp):\n",
    "        print('Visit Times')\n",
    "    def visit_Plus(self, exp):\n",
    "        print('Visit Plus')\n"
   ]
  },
  {
   "cell_type": "code",
   "execution_count": 13,
   "metadata": {},
   "outputs": [
    {
     "name": "stdout",
     "output_type": "stream",
     "text": [
      "Visit Plus\n",
      "Visit Times\n"
     ]
    }
   ],
   "source": [
    "ast.accept(BinaryExpVisitor())"
   ]
  },
  {
   "cell_type": "code",
   "execution_count": 14,
   "metadata": {},
   "outputs": [
    {
     "name": "stdout",
     "output_type": "stream",
     "text": [
      "Visit Variable x\n",
      "Visit Variable y\n",
      "Visit Const 3\n"
     ]
    }
   ],
   "source": [
    "class VCExpVisitor(Visitor):\n",
    "    def visit_Variable(self, exp):\n",
    "        print('Visit Variable', exp.name)\n",
    "    def visit_Const(self, exp):\n",
    "        print('Visit Const', exp.value)\n",
    "        \n",
    "ast.accept(VCExpVisitor())"
   ]
  },
  {
   "cell_type": "code",
   "execution_count": null,
   "metadata": {},
   "outputs": [],
   "source": []
  }
 ],
 "metadata": {
  "kernelspec": {
   "display_name": "Python 3",
   "language": "python",
   "name": "python3"
  },
  "language_info": {
   "codemirror_mode": {
    "name": "ipython",
    "version": 3
   },
   "file_extension": ".py",
   "mimetype": "text/x-python",
   "name": "python",
   "nbconvert_exporter": "python",
   "pygments_lexer": "ipython3",
   "version": "3.7.5"
  }
 },
 "nbformat": 4,
 "nbformat_minor": 2
}
