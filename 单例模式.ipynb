{
 "cells": [
  {
   "cell_type": "code",
   "execution_count": 1,
   "metadata": {},
   "outputs": [],
   "source": [
    "class Singleton:\n",
    "    def __new__(cls, *args, **kwds):\n",
    "        it = getattr(cls, '__it__', None)\n",
    "        if it is not None:\n",
    "            return it\n",
    "        cls.__it__ = it = object.__new__(cls)\n",
    "        it.init(*args, **kwds)\n",
    "        return it\n",
    "    \n",
    "    def init(self, *args, **kwds):\n",
    "        print(f'init with args:{args}, kwds:{kwds}')\n",
    "    \n",
    "class Dog(Singleton):\n",
    "    def __init__(self, name, age=3):\n",
    "        print(f'__init__ Dog with name: {name}, age: {age}')\n",
    "    def init(self, name, age):\n",
    "        print(f'init Dog with name: {name}, age: {age}')\n",
    "        self.name = name\n",
    "        self.age = age\n",
    "    def __str__(self):\n",
    "        return f'Dog {self.name}: {self.age} years old'\n",
    "        "
   ]
  },
  {
   "cell_type": "code",
   "execution_count": 2,
   "metadata": {},
   "outputs": [
    {
     "name": "stdout",
     "output_type": "stream",
     "text": [
      "init Dog with name: Tom, age: 5\n",
      "__init__ Dog with name: Tom, age: 5\n",
      "Dog Tom: 5 years old\n"
     ]
    }
   ],
   "source": [
    "tom = Dog('Tom', age=5)\n",
    "print(tom)"
   ]
  },
  {
   "cell_type": "code",
   "execution_count": 3,
   "metadata": {},
   "outputs": [
    {
     "name": "stdout",
     "output_type": "stream",
     "text": [
      "__init__ Dog with name: Jerry, age: 3\n",
      "Dog Tom: 5 years old\n"
     ]
    }
   ],
   "source": [
    "jerry = Dog('Jerry')\n",
    "print(jerry)"
   ]
  },
  {
   "cell_type": "code",
   "execution_count": 4,
   "metadata": {},
   "outputs": [
    {
     "name": "stdout",
     "output_type": "stream",
     "text": [
      "True\n"
     ]
    }
   ],
   "source": [
    "print(tom is jerry)"
   ]
  },
  {
   "cell_type": "code",
   "execution_count": 5,
   "metadata": {},
   "outputs": [
    {
     "name": "stdout",
     "output_type": "stream",
     "text": [
      "Dog Tom: 5 years old\n"
     ]
    }
   ],
   "source": [
    "print(tom)"
   ]
  },
  {
   "cell_type": "code",
   "execution_count": null,
   "metadata": {},
   "outputs": [],
   "source": []
  }
 ],
 "metadata": {
  "kernelspec": {
   "display_name": "Python 3",
   "language": "python",
   "name": "python3"
  },
  "language_info": {
   "codemirror_mode": {
    "name": "ipython",
    "version": 3
   },
   "file_extension": ".py",
   "mimetype": "text/x-python",
   "name": "python",
   "nbconvert_exporter": "python",
   "pygments_lexer": "ipython3",
   "version": "3.7.5"
  }
 },
 "nbformat": 4,
 "nbformat_minor": 2
}
