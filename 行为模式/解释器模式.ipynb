{
 "cells": [
  {
   "cell_type": "code",
   "execution_count": 1,
   "metadata": {},
   "outputs": [],
   "source": [
    "class Exp:\n",
    "    pass\n",
    "\n",
    "class BinaryExp(Exp):\n",
    "    def __init__(self, left, right):\n",
    "        self.left = left\n",
    "        self.right = right\n",
    "        \n",
    "class Plus(BinaryExp):\n",
    "    def __str__(self):\n",
    "        return f'({self.left} + {self.right})'\n",
    "    def eval(self, env):\n",
    "        return self.left.eval(env) + self.right.eval(env)\n",
    "    \n",
    "class Times(BinaryExp):\n",
    "    def __str__(self):\n",
    "        return f'({self.left} * {self.right})'\n",
    "    def eval(self, env):\n",
    "        return self.left.eval(env) * self.right.eval(env)\n",
    "\n",
    "class Const(Exp):\n",
    "    def __init__(self, value):\n",
    "        self.value = value\n",
    "    def __str__(self):\n",
    "        return str(self.value)\n",
    "    def eval(self, env):\n",
    "        return self.value\n",
    "\n",
    "class Variable(Exp):\n",
    "    def __init__(self, name):\n",
    "        self.name = name\n",
    "    def __str__(self):\n",
    "        return self.name\n",
    "    def eval(self, env):\n",
    "        return env[self.name]\n",
    "    \n"
   ]
  },
  {
   "cell_type": "code",
   "execution_count": 2,
   "metadata": {},
   "outputs": [
    {
     "name": "stdout",
     "output_type": "stream",
     "text": [
      "((x + y) * 3)\n"
     ]
    }
   ],
   "source": [
    "exp1 = Times(Plus(Variable('x'), Variable('y')), Const(3))\n",
    "print(exp1)"
   ]
  },
  {
   "cell_type": "code",
   "execution_count": 3,
   "metadata": {},
   "outputs": [
    {
     "name": "stdout",
     "output_type": "stream",
     "text": [
      "(x + (y * 3))\n"
     ]
    }
   ],
   "source": [
    "exp2 = Plus(Variable('x'), Times(Variable('y'), Const(3)))\n",
    "print(exp2)"
   ]
  },
  {
   "cell_type": "code",
   "execution_count": 4,
   "metadata": {},
   "outputs": [],
   "source": [
    "env = {\n",
    "    'x': 3,\n",
    "    'y': 4\n",
    "}"
   ]
  },
  {
   "cell_type": "code",
   "execution_count": 5,
   "metadata": {},
   "outputs": [
    {
     "data": {
      "text/plain": [
       "21"
      ]
     },
     "execution_count": 5,
     "metadata": {},
     "output_type": "execute_result"
    }
   ],
   "source": [
    "# ((x + y) * 3)\n",
    "exp1.eval(env)"
   ]
  },
  {
   "cell_type": "code",
   "execution_count": 6,
   "metadata": {},
   "outputs": [
    {
     "data": {
      "text/plain": [
       "15"
      ]
     },
     "execution_count": 6,
     "metadata": {},
     "output_type": "execute_result"
    }
   ],
   "source": [
    "exp2.eval(env)"
   ]
  },
  {
   "cell_type": "code",
   "execution_count": null,
   "metadata": {},
   "outputs": [],
   "source": []
  }
 ],
 "metadata": {
  "kernelspec": {
   "display_name": "Python 3",
   "language": "python",
   "name": "python3"
  },
  "language_info": {
   "codemirror_mode": {
    "name": "ipython",
    "version": 3
   },
   "file_extension": ".py",
   "mimetype": "text/x-python",
   "name": "python",
   "nbconvert_exporter": "python",
   "pygments_lexer": "ipython3",
   "version": "3.7.5"
  }
 },
 "nbformat": 4,
 "nbformat_minor": 2
}
